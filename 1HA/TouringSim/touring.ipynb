{
 "cells": [
  {
   "cell_type": "code",
   "execution_count": 18,
   "metadata": {},
   "outputs": [
    {
     "name": "stdout",
     "output_type": "stream",
     "text": [
      "#states 3\n",
      "\n",
      "Alphabet \n",
      "['0', '1']\n",
      "#All signs\n",
      "['0', '1', 'B']\n",
      "Number Startstate 1\n",
      "Number of final State 3\n",
      "['1', '0', '1', '1', 'R']\n",
      "['1', '1', '1', '0', 'R']\n",
      "['1', 'B', '2', 'B', 'L']\n",
      "['2', '0', '2', '0', 'L']\n",
      "['2', '1', '2', '1', 'L']\n",
      "['2', 'B', '3', 'B', 'R']\n"
     ]
    }
   ],
   "source": [
    "file_path = \"invert.TM\"  # Replace with the path to your file\n",
    "try:\n",
    "    with open(file_path, \"r\") as file:\n",
    "        print(\"#states \" + file.readline())\n",
    "        print(\"Alphabet \")\n",
    "        print(list(file.readline().strip('\\n')))\n",
    "        print(\"#All signs\")\n",
    "        print(list(file.readline().strip('\\n')))\n",
    "        print(\"Number Startstate \" + file.readline().strip('\\n'))\n",
    "        print(\"Number of final State \" + file.readline().strip('\\n'))\n",
    "        # Read and process each line in the file\n",
    "        for line in file:\n",
    "            # Do something with each line, for example, print it\n",
    "            print(line.strip(\"\\n\").split(\" \"))  # 'end='' to avoid double spacing (lines already have newline characters)\n",
    "except FileNotFoundError:\n",
    "    print(f\"File '{file_path}' not found\")\n",
    "except Exception as e:\n",
    "    print(f\"An error occurred: {e}\")"
   ]
  },
  {
   "cell_type": "code",
   "execution_count": 12,
   "metadata": {},
   "outputs": [],
   "source": [
    "#log band and current symbol\n",
    "def progress(input_list, index):\n",
    "    if 0 <= index < len(input_list):\n",
    "        result = \"\"\n",
    "        for i in range(len(input_list)):\n",
    "            if i == index:\n",
    "                result += \"[\"\n",
    "                result += str(input_list[i])\n",
    "                result += \"]\"\n",
    "            else:\n",
    "                result += str(input_list[i])\n",
    "        return result\n",
    "    else:\n",
    "        print(\"Index is out of range.\")\n",
    "\n",
    "class TouringMachine:\n",
    "    #create Touring Machine class\n",
    "    def __init__(self, file_path):\n",
    "        try:\n",
    "            with open(file_path, \"r\") as file:\n",
    "                #Read .TM file\n",
    "                self.states = file.readline().strip('\\n')\n",
    "                self.alphabet = list(file.readline().strip('\\n'))\n",
    "                self.int_alphabet = list(file.readline().strip('\\n'))\n",
    "                self.begin_state = int(file.readline().strip('\\n'))\n",
    "                self.end_state = int(file.readline().strip('\\n'))\n",
    "                self.transitions = {}\n",
    "                # Read and process each statetransition\n",
    "                for line in file:\n",
    "                    # fit the state transition in dictionary entries (tuple of old state and symbol for identifing)\n",
    "                    # triple for new state, new symbol and next operation\n",
    "                    tmp = line.strip(\"\\n\").split(\" \")\n",
    "                    self.transitions[int(tmp[0]), tmp[1]]=(int(tmp[2]), tmp[3], tmp[4])  # 'end='' to avoid double spacing (lines already have newline characters)\n",
    "        except FileNotFoundError:\n",
    "            print(f\"File '{file_path}' not found\")\n",
    "        except Exception as e:\n",
    "            print(f\"An error occurred: {e}\")\n",
    "    #execute the touring machine\n",
    "    def execute(self, band):\n",
    "        #init values\n",
    "        s = self.begin_state\n",
    "        i = 1\n",
    "        band.insert(0,\"B\")\n",
    "        band.append(\"B\")\n",
    "        #run until final state is reached\n",
    "        while(s!=self.end_state):\n",
    "            #search fitting transition profile from dict\n",
    "            print(progress(band, i))\n",
    "            t = self.transitions[(s,band[i])]\n",
    "            #overwrite band entry\n",
    "            band[i] = t[1]\n",
    "            #update state \n",
    "            s = t[0]\n",
    "            #translate movint instructions to index changes and increase buffer to left and right if needed\n",
    "            if(t[2] == 'R'):\n",
    "                i += 1\n",
    "                if(i>=len(band)):\n",
    "                    band.append('B')\n",
    "            elif(t[2] == 'L'):\n",
    "                i-=1\n",
    "                if(i<=0):\n",
    "                    band.insert(0,'B')\n",
    "                    i+=1\n",
    "        print(progress(band, i))    \n",
    "        \n",
    "        return progress(band, i)\n",
    "    \n",
    "\n",
    "        \n",
    "             \n",
    "\n",
    "\n"
   ]
  },
  {
   "cell_type": "code",
   "execution_count": 17,
   "metadata": {},
   "outputs": [
    {
     "name": "stdout",
     "output_type": "stream",
     "text": [
      "{(1, '0'): (1, '0', 'R'), (1, '1'): (1, '1', 'R'), (1, 'x'): (1, 'x', 'R'), (1, 'y'): (1, 'y', 'R'), (1, '#'): (1, '#', 'R'), (1, 'B'): (2, 'B', 'L'), (2, '0'): (3, 'x', 'L'), (2, '1'): (5, 'y', 'L'), (2, 'x'): (2, 'x', 'L'), (2, 'y'): (2, 'y', 'L'), (2, '#'): (8, '#', 'R'), (3, '0'): (3, '0', 'L'), (3, '1'): (3, '1', 'L'), (3, '#'): (4, '#', 'L'), (4, '0'): (1, 'x', 'N'), (4, '1'): (1, 'y', 'N'), (4, 'x'): (4, 'x', 'L'), (4, 'y'): (4, 'y', 'L'), (4, 'B'): (1, 'x', 'N'), (5, '0'): (5, '0', 'L'), (5, '1'): (5, '1', 'L'), (5, '#'): (6, '#', 'L'), (6, '0'): (1, 'y', 'N'), (6, '1'): (7, 'x', 'L'), (6, 'x'): (6, 'x', 'L'), (6, 'y'): (6, 'y', 'L'), (6, 'B'): (1, 'y', 'N'), (7, '0'): (1, '1', 'N'), (7, '1'): (7, '0', 'L'), (7, 'B'): (1, '1', 'N'), (8, 'x'): (8, 'x', 'R'), (8, 'y'): (8, 'y', 'R'), (8, 'B'): (9, 'B', 'L'), (9, '0'): (9, '0', 'L'), (9, '1'): (9, '1', 'L'), (9, 'x'): (9, '0', 'L'), (9, 'y'): (9, '1', 'L'), (9, '#'): (9, 'B', 'L'), (9, 'B'): (10, 'B', 'R')}\n",
      "B[1]101#11B\n",
      "B1[1]01#11B\n",
      "B11[0]1#11B\n",
      "B110[1]#11B\n",
      "B1101[#]11B\n",
      "B1101#[1]1B\n",
      "B1101#1[1]B\n",
      "B1101#11[B]\n",
      "B1101#1[1]B\n",
      "B1101#[1]yB\n",
      "B1101[#]1yB\n",
      "B110[1]#1yB\n",
      "B11[0]x#1yB\n",
      "B11[1]x#1yB\n",
      "B111[x]#1yB\n",
      "B111x[#]1yB\n",
      "B111x#[1]yB\n",
      "B111x#1[y]B\n",
      "B111x#1y[B]\n",
      "B111x#1[y]B\n",
      "B111x#[1]yB\n",
      "B111x[#]yyB\n",
      "B111[x]#yyB\n",
      "B11[1]x#yyB\n",
      "B1[1]xx#yyB\n",
      "B[1]0xx#yyB\n",
      "B[B]00xx#yyB\n",
      "B[1]00xx#yyB\n",
      "B1[0]0xx#yyB\n",
      "B10[0]xx#yyB\n",
      "B100[x]x#yyB\n",
      "B100x[x]#yyB\n",
      "B100xx[#]yyB\n",
      "B100xx#[y]yB\n",
      "B100xx#y[y]B\n",
      "B100xx#yy[B]\n",
      "B100xx#y[y]B\n",
      "B100xx#[y]yB\n",
      "B100xx[#]yyB\n",
      "B100xx#[y]yB\n",
      "B100xx#y[y]B\n",
      "B100xx#yy[B]\n",
      "B100xx#y[y]B\n",
      "B100xx#[y]1B\n",
      "B100xx[#]11B\n",
      "B100x[x]B11B\n",
      "B100[x]0B11B\n",
      "B10[0]00B11B\n",
      "B1[0]000B11B\n",
      "B[1]0000B11B\n",
      "B[B]10000B11B\n",
      "BB[1]0000B11B\n"
     ]
    },
    {
     "data": {
      "text/plain": [
       "'BB[1]0000B11B'"
      ]
     },
     "execution_count": 17,
     "metadata": {},
     "output_type": "execute_result"
    }
   ],
   "source": [
    "tm = TouringMachine(\"binaryAdd.TM\")\n",
    "print(tm.transitions)\n",
    "tm.execute(list(\"1101#11\"))\n",
    "        "
   ]
  },
  {
   "cell_type": "code",
   "execution_count": 66,
   "metadata": {},
   "outputs": [
    {
     "name": "stdout",
     "output_type": "stream",
     "text": [
      "12[3]45\n"
     ]
    }
   ],
   "source": [
    "def print_list_with_marker(input_list, index):\n",
    "    if 0 <= index < len(input_list):\n",
    "        result = \"\"\n",
    "        for i in range(len(input_list)):\n",
    "            if i == index:\n",
    "                result += \"[\"\n",
    "                result += str(input_list[i])\n",
    "                result += \"]\"\n",
    "            else:\n",
    "                result += str(input_list[i])\n",
    "        print(result)\n",
    "    else:\n",
    "        print(\"Index is out of range.\")\n",
    "\n",
    "# Example usage:\n",
    "my_list = [1, 2, 3, 4, 5]\n",
    "index_to_mark = 2\n",
    "print_list_with_marker(my_list, index_to_mark)"
   ]
  },
  {
   "cell_type": "code",
   "execution_count": null,
   "metadata": {},
   "outputs": [],
   "source": []
  }
 ],
 "metadata": {
  "kernelspec": {
   "display_name": "DataVis",
   "language": "python",
   "name": "python3"
  },
  "language_info": {
   "codemirror_mode": {
    "name": "ipython",
    "version": 3
   },
   "file_extension": ".py",
   "mimetype": "text/x-python",
   "name": "python",
   "nbconvert_exporter": "python",
   "pygments_lexer": "ipython3",
   "version": "3.9.17"
  }
 },
 "nbformat": 4,
 "nbformat_minor": 2
}
